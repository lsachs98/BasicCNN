{
 "cells": [
  {
   "cell_type": "code",
   "execution_count": 1,
   "metadata": {},
   "outputs": [],
   "source": [
    "import tensorflow as tf"
   ]
  },
  {
   "cell_type": "code",
   "execution_count": 2,
   "metadata": {},
   "outputs": [],
   "source": [
    "import os\n",
    "import cv2\n",
    "import numpy as np"
   ]
  },
  {
   "cell_type": "code",
   "execution_count": 3,
   "metadata": {
    "scrolled": true
   },
   "outputs": [
    {
     "ename": "SyntaxError",
     "evalue": "invalid syntax (<ipython-input-3-5a9b4a7618b6>, line 2)",
     "output_type": "error",
     "traceback": [
      "\u001b[1;36m  File \u001b[1;32m\"<ipython-input-3-5a9b4a7618b6>\"\u001b[1;36m, line \u001b[1;32m2\u001b[0m\n\u001b[1;33m    from cnn-modules import *\u001b[0m\n\u001b[1;37m            ^\u001b[0m\n\u001b[1;31mSyntaxError\u001b[0m\u001b[1;31m:\u001b[0m invalid syntax\n"
     ]
    }
   ],
   "source": [
    "import pathlib\n",
    "from CNNModules import *\n",
    "\n",
    "#download data to your computer\n",
    "data_dir = tf.keras.utils.get_file(origin='https://storage.googleapis.com/download.tensorflow.org/example_images/flower_photos.tgz',\n",
    "                                         fname='flower_photos', untar=True)\n",
    "\n",
    "#if it's been set up already, then the data should already be in \n",
    "#a folder with the original name plus '_ub'\n",
    "if os.path.exists(data_dir + '_ub') and os.path.isdir(data_dir + '_ub'):\n",
    "    data_dir = pathlib.Path(data_dir + '_ub')\n",
    "    \n",
    "#otherwise, make said directory and copy the files over\n",
    "#using UB_data_setup method\n",
    "else:\n",
    "    data_dir = pathlib.Path(UB_data_setup(data_dir))#UB setup\n",
    "\n",
    "print('This is where the data that we\\'ve changed went')\n",
    "print(data_dir)"
   ]
  },
  {
   "cell_type": "code",
   "execution_count": null,
   "metadata": {},
   "outputs": [],
   "source": [
    "#count any jpeg (*.jpg) in any folder (*/)\n",
    "image_count = len(list(data_dir.glob('*/*.jpg')))\n",
    "image_count"
   ]
  },
  {
   "cell_type": "code",
   "execution_count": null,
   "metadata": {
    "scrolled": true
   },
   "outputs": [],
   "source": [
    "#grab folder names and label them as the classification of the data\n",
    "DATA_CLASSES = [item.name for item in data_dir.glob('*') if item.name != \"LICENSE.txt\"]\n",
    "print(DATA_CLASSES)"
   ]
  },
  {
   "cell_type": "code",
   "execution_count": null,
   "metadata": {
    "scrolled": true
   },
   "outputs": [],
   "source": [
    "import random\n",
    "\n",
    "\n",
    "IMG_SIZE = 50\n",
    "training_data , testing_data,  distribution = data_preprocess(data_dir, IMG_SIZE, DATA_CLASSES)\n",
    "random.shuffle(training_data)\n",
    "\n"
   ]
  },
  {
   "cell_type": "code",
   "execution_count": null,
   "metadata": {},
   "outputs": [],
   "source": [
    "print(len(training_data))\n",
    "i = 0\n",
    "for elem in distribution:\n",
    "    print('Proportion of ' + str(DATA_CLASSES[i]))\n",
    "    print(elem / image_count)\n",
    "    i+=1"
   ]
  },
  {
   "cell_type": "code",
   "execution_count": null,
   "metadata": {},
   "outputs": [],
   "source": [
    "#split into image data and labels (X,y)\n",
    "X , y = restructure_data(training_data)\n",
    "\n",
    "print('This image')\n",
    "\n",
    "display_image(training_data[0][0])\n",
    "\n",
    "print('is represented like this to our model \\n ')\n",
    "\n",
    "print(training_data[0][0])\n",
    "#print(testing_data[0][0])\n"
   ]
  },
  {
   "cell_type": "code",
   "execution_count": null,
   "metadata": {},
   "outputs": [],
   "source": [
    "X = X/255.0\n",
    "\n",
    "model = build_model(X,y,len(DATA_CLASSES))\n",
    "\n",
    "model.fit(X, y, batch_size=32, epochs=3, validation_split=0.3)"
   ]
  },
  {
   "cell_type": "code",
   "execution_count": null,
   "metadata": {},
   "outputs": [],
   "source": [
    "X_test, y_test = restructure_data(testing_data)\n",
    "predictions = model.predict(X_test)\n",
    "\n",
    "error_occurances = []\n",
    "i = 0\n",
    "\n",
    "while i < len(predictions):\n",
    "    \n",
    "    if not np.argmax(predictions[i]) == y_test[i]:\n",
    "        error_occurances.append(i)\n",
    "        \n",
    "    i+=1\n",
    "    \n",
    "print('The model was right ' + str(100*(1-len(error_occurances)/len(predictions))) + '% of the time')\n",
    "    "
   ]
  },
  {
   "cell_type": "code",
   "execution_count": null,
   "metadata": {
    "scrolled": true
   },
   "outputs": [],
   "source": [
    "import random\n",
    "#check a random data point from all of X_test\n",
    "#check = random.randint(0,len(X_test)-1) \n",
    "#or check one of the mrked errors\n",
    "check = error_occurances[random.randint(0, len(error_occurances)-1)]\n",
    "\n",
    "print('The model predicted that this image is in the category of ' + DATA_CLASSES[np.argmax(predictions[check])] + \n",
    "      ' and it is in the category of ' + DATA_CLASSES[y_test[check]])\n",
    "\n",
    "display_image(X_test[check])"
   ]
  }
 ],
 "metadata": {
  "kernelspec": {
   "display_name": "Python 3",
   "language": "python",
   "name": "python3"
  },
  "language_info": {
   "codemirror_mode": {
    "name": "ipython",
    "version": 3
   },
   "file_extension": ".py",
   "mimetype": "text/x-python",
   "name": "python",
   "nbconvert_exporter": "python",
   "pygments_lexer": "ipython3",
   "version": "3.6.9"
  }
 },
 "nbformat": 4,
 "nbformat_minor": 2
}
