{
 "cells": [
  {
   "cell_type": "code",
   "execution_count": 1,
   "metadata": {},
   "outputs": [],
   "source": [
    "import tensorflow as tf"
   ]
  },
  {
   "cell_type": "code",
   "execution_count": 2,
   "metadata": {},
   "outputs": [],
   "source": [
    "import os\n",
    "import cv2\n",
    "import numpy as np\n",
    "import matplotlib.pyplot as plt"
   ]
  },
  {
   "cell_type": "code",
   "execution_count": 3,
   "metadata": {
    "scrolled": true
   },
   "outputs": [],
   "source": [
    "import pathlib\n",
    "data_dir = tf.keras.utils.get_file(origin='https://storage.googleapis.com/download.tensorflow.org/example_images/flower_photos.tgz',\n",
    "                                         fname='flower_photos', untar=True)"
   ]
  },
  {
   "cell_type": "code",
   "execution_count": 4,
   "metadata": {},
   "outputs": [
    {
     "name": "stdout",
     "output_type": "stream",
     "text": [
      "C:\\Users\\laure\\.keras\\datasets\\flower_photos\n"
     ]
    }
   ],
   "source": [
    "data_dir = pathlib.Path(data_dir)\n",
    "print(data_dir)"
   ]
  },
  {
   "cell_type": "code",
   "execution_count": 5,
   "metadata": {},
   "outputs": [
    {
     "data": {
      "text/plain": [
       "3666"
      ]
     },
     "execution_count": 5,
     "metadata": {},
     "output_type": "execute_result"
    }
   ],
   "source": [
    "image_count = len(list(data_dir.glob('*/*.jpg')))\n",
    "image_count"
   ]
  },
  {
   "cell_type": "code",
   "execution_count": 6,
   "metadata": {},
   "outputs": [
    {
     "name": "stdout",
     "output_type": "stream",
     "text": [
      "['daisy', 'dandelion', 'roses', 'sunflowers', 'tulips']\n"
     ]
    }
   ],
   "source": [
    "DATA_CLASSES = [item.name for item in data_dir.glob('*') if item.name != \"LICENSE.txt\"]\n",
    "print(DATA_CLASSES)"
   ]
  },
  {
   "cell_type": "code",
   "execution_count": 7,
   "metadata": {
    "scrolled": true
   },
   "outputs": [],
   "source": [
    "import random\n",
    "from CNNModules import *\n",
    "\n",
    "IMG_SIZE = 50\n",
    "training_data , testing_data,  distribution = data_preprocess(data_dir, IMG_SIZE, DATA_CLASSES)\n",
    "random.shuffle(training_data)\n"
   ]
  },
  {
   "cell_type": "code",
   "execution_count": 8,
   "metadata": {},
   "outputs": [
    {
     "name": "stdout",
     "output_type": "stream",
     "text": [
      "2935\n",
      "Proportion of daisy\n",
      "0.1723949809056192\n",
      "Proportion of dandelion\n",
      "0.24440807419530824\n",
      "Proportion of roses\n",
      "0.1745771958537916\n",
      "Proportion of sunflowers\n",
      "0.190671031096563\n",
      "Proportion of tulips\n",
      "0.21794871794871795\n"
     ]
    }
   ],
   "source": [
    "print(len(training_data))\n",
    "i = 0\n",
    "for elem in distribution:\n",
    "    print('Proportion of ' + str(DATA_CLASSES[i]))\n",
    "    print(elem / image_count)\n",
    "    i+=1"
   ]
  },
  {
   "cell_type": "code",
   "execution_count": 9,
   "metadata": {},
   "outputs": [
    {
     "name": "stdout",
     "output_type": "stream",
     "text": [
      "This image\n"
     ]
    },
    {
     "data": {
      "image/png": "[encoded data removed]",
      "text/plain": [
       "<Figure size 432x288 with 1 Axes>"
      ]
     },
     "metadata": {
      "needs_background": "light"
     },
     "output_type": "display_data"
    },
    {
     "name": "stdout",
     "output_type": "stream",
     "text": [
      "is represented like this to our model \n",
      " \n",
      "[[[204 194 165]\n",
      "  [207 200 168]\n",
      "  [211 202 169]\n",
      "  ...\n",
      "  [232 233 207]\n",
      "  [230 232 203]\n",
      "  [228 230 201]]\n",
      "\n",
      " [[204 195 166]\n",
      "  [205 199 168]\n",
      "  [207 202 171]\n",
      "  ...\n",
      "  [230 235 207]\n",
      "  [230 232 206]\n",
      "  [229 231 202]]\n",
      "\n",
      " [[203 197 166]\n",
      "  [205 200 170]\n",
      "  [208 203 172]\n",
      "  ...\n",
      "  [229 233 202]\n",
      "  [229 231 201]\n",
      "  [226 228 199]]\n",
      "\n",
      " ...\n",
      "\n",
      " [[ 62 120  75]\n",
      "  [ 66 124  83]\n",
      "  [ 67 116  78]\n",
      "  ...\n",
      "  [ 16  81  37]\n",
      "  [  4  75  28]\n",
      "  [ 37  97  55]]\n",
      "\n",
      " [[  1  32   1]\n",
      "  [  0  20   0]\n",
      "  [  2  15   2]\n",
      "  ...\n",
      "  [  1  68  18]\n",
      "  [  1  71  19]\n",
      "  [ 15  82  36]]\n",
      "\n",
      " [[  1  21   1]\n",
      "  [  1  57   6]\n",
      "  [  1  61  16]\n",
      "  ...\n",
      "  [  0  71  19]\n",
      "  [  2  58   5]\n",
      "  [  1  53   0]]]\n"
     ]
    }
   ],
   "source": [
    "#split into image data and labels (X,y)\n",
    "X , y = restructure_data(training_data)\n",
    "\n",
    "#take a look at a piece of data\n",
    "print('This image')\n",
    "\n",
    "check_image = training_data[0][0]\n",
    "#try commenting out the line below\n",
    "#how does it affect the image? how does it affect the training?\n",
    "check_image = cv2.cvtColor(check_image, cv2.COLOR_BGR2RGB)\n",
    "plt.imshow(check_image)\n",
    "plt.show()\n",
    "\n",
    "print('is represented like this to our model \\n ')\n",
    "\n",
    "print(training_data[0][0])\n",
    "#print(testing_data[0][0])"
   ]
  },
  {
   "cell_type": "code",
   "execution_count": 10,
   "metadata": {},
   "outputs": [
    {
     "name": "stdout",
     "output_type": "stream",
     "text": [
      "WARNING:tensorflow:From C:\\Users\\laure\\Anaconda3\\envs\\TensorFlowStuff\\lib\\site-packages\\tensorflow\\python\\ops\\init_ops.py:1251: calling VarianceScaling.__init__ (from tensorflow.python.ops.init_ops) with dtype is deprecated and will be removed in a future version.\n",
      "Instructions for updating:\n",
      "Call initializer instance with the dtype argument instead of passing it to the constructor\n",
      "Train on 2054 samples, validate on 881 samples\n",
      "Epoch 1/3\n",
      "2054/2054 [==============================] - 44s 21ms/sample - loss: 1.4209 - acc: 0.4060 - val_loss: 1.2010 - val_acc: 0.4699\n",
      "Epoch 2/3\n",
      "2054/2054 [==============================] - 42s 21ms/sample - loss: 1.1198 - acc: 0.5365 - val_loss: 1.1189 - val_acc: 0.5630\n",
      "Epoch 3/3\n",
      "2054/2054 [==============================] - 44s 21ms/sample - loss: 0.9520 - acc: 0.6324 - val_loss: 1.0549 - val_acc: 0.5948\n"
     ]
    },
    {
     "data": {
      "text/plain": [
       "<tensorflow.python.keras.callbacks.History at 0x21f9925e5c0>"
      ]
     },
     "execution_count": 10,
     "metadata": {},
     "output_type": "execute_result"
    }
   ],
   "source": [
    "X = X/255.0\n",
    "\n",
    "#magical model building!\n",
    "model = build_model(X,y,len(DATA_CLASSES))\n",
    "\n",
    "#note: \n",
    "#epochs = number of times it trains\n",
    "#validation_split = what to take out to test on automatically\n",
    "model.fit(X, y, batch_size=32, epochs=3, validation_split=0.3)"
   ]
  },
  {
   "cell_type": "code",
   "execution_count": 11,
   "metadata": {},
   "outputs": [
    {
     "name": "stdout",
     "output_type": "stream",
     "text": [
      "The model was right 46.6484268125855% of the time\n"
     ]
    }
   ],
   "source": [
    "X_test, y_test = restructure_data(testing_data)\n",
    "predictions = model.predict(X_test)\n",
    "\n",
    "error_occurances = []\n",
    "i = 0\n",
    "\n",
    "while i < len(predictions):\n",
    "    \n",
    "    if not np.argmax(predictions[i]) == y_test[i]:\n",
    "        error_occurances.append(i)\n",
    "        \n",
    "    i+=1\n",
    "    \n",
    "print('The model was right ' + str(100*(1-len(error_occurances)/len(predictions))) + '% of the time')\n",
    "    "
   ]
  },
  {
   "cell_type": "code",
   "execution_count": 12,
   "metadata": {},
   "outputs": [
    {
     "name": "stdout",
     "output_type": "stream",
     "text": [
      "The model predicted that this image is in the category of tulips and it is in the category of sunflowers\n"
     ]
    },
    {
     "data": {
      "image/png": "[encoded data removed]",
      "text/plain": [
       "<Figure size 432x288 with 1 Axes>"
      ]
     },
     "metadata": {
      "needs_background": "light"
     },
     "output_type": "display_data"
    }
   ],
   "source": [
    "import random\n",
    "#check a random data point from all of X_test\n",
    "#check = random.randint(0,len(X_test)-1) \n",
    "#or check one of the mrked errors\n",
    "check = error_occurances[random.randint(0, len(error_occurances)-1)]\n",
    "\n",
    "print('The model predicted that this image is in the category of ' + DATA_CLASSES[np.argmax(predictions[check])] + \n",
    "      ' and it is in the category of ' + DATA_CLASSES[y_test[check]])\n",
    "display_image(X_test[check])"
   ]
  }
 ],
 "metadata": {
  "kernelspec": {
   "display_name": "Python 3",
   "language": "python",
   "name": "python3"
  },
  "language_info": {
   "codemirror_mode": {
    "name": "ipython",
    "version": 3
   },
   "file_extension": ".py",
   "mimetype": "text/x-python",
   "name": "python",
   "nbconvert_exporter": "python",
   "pygments_lexer": "ipython3",
   "version": "3.6.9"
  }
 },
 "nbformat": 4,
 "nbformat_minor": 2
}
