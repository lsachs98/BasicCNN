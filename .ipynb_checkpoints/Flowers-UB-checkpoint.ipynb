{
 "cells": [
  {
   "cell_type": "code",
   "execution_count": 1,
   "metadata": {},
   "outputs": [],
   "source": [
    "import tensorflow as tf"
   ]
  },
  {
   "cell_type": "code",
   "execution_count": 2,
   "metadata": {},
   "outputs": [],
   "source": [
    "import os\n",
    "import cv2\n",
    "import numpy as np\n",
    "import matplotlib.pyplot as plt"
   ]
  },
  {
   "cell_type": "code",
   "execution_count": 6,
   "metadata": {
    "scrolled": true
   },
   "outputs": [
    {
     "ename": "AttributeError",
     "evalue": "module 'pathlib' has no attribute 'path'",
     "output_type": "error",
     "traceback": [
      "\u001b[1;31m---------------------------------------------------------------------------\u001b[0m",
      "\u001b[1;31mAttributeError\u001b[0m                            Traceback (most recent call last)",
      "\u001b[1;32m<ipython-input-6-400a7986605c>\u001b[0m in \u001b[0;36m<module>\u001b[1;34m\u001b[0m\n\u001b[0;32m     10\u001b[0m \u001b[1;33m\u001b[0m\u001b[0m\n\u001b[0;32m     11\u001b[0m \u001b[1;32melse\u001b[0m\u001b[1;33m:\u001b[0m\u001b[1;33m\u001b[0m\u001b[1;33m\u001b[0m\u001b[0m\n\u001b[1;32m---> 12\u001b[1;33m     \u001b[0mdata_dir\u001b[0m \u001b[1;33m=\u001b[0m \u001b[0mpathlib\u001b[0m\u001b[1;33m.\u001b[0m\u001b[0mPath\u001b[0m\u001b[1;33m(\u001b[0m\u001b[0mUB_data_setup\u001b[0m\u001b[1;33m(\u001b[0m\u001b[0mdata_dir\u001b[0m\u001b[1;33m)\u001b[0m\u001b[1;33m)\u001b[0m\u001b[1;31m#UB setup\u001b[0m\u001b[1;33m\u001b[0m\u001b[1;33m\u001b[0m\u001b[0m\n\u001b[0m\u001b[0;32m     13\u001b[0m \u001b[1;33m\u001b[0m\u001b[0m\n\u001b[0;32m     14\u001b[0m \u001b[0mprint\u001b[0m\u001b[1;33m(\u001b[0m\u001b[0mdata_dir\u001b[0m\u001b[1;33m)\u001b[0m\u001b[1;33m\u001b[0m\u001b[1;33m\u001b[0m\u001b[0m\n",
      "\u001b[1;32m~\\Anaconda3\\envs\\TensorFlowStuff\\CNN-Basics\\basicCNN.py\u001b[0m in \u001b[0;36mUB_data_setup\u001b[1;34m(data_dir)\u001b[0m\n\u001b[0;32m     55\u001b[0m                 \u001b[0mfindex\u001b[0m \u001b[1;33m+=\u001b[0m \u001b[1;36m1\u001b[0m \u001b[1;31m#move on to next file\u001b[0m\u001b[1;33m\u001b[0m\u001b[1;33m\u001b[0m\u001b[0m\n\u001b[0;32m     56\u001b[0m \u001b[1;33m\u001b[0m\u001b[0m\n\u001b[1;32m---> 57\u001b[1;33m         \u001b[1;32mreturn\u001b[0m \u001b[0mpathlib\u001b[0m\u001b[1;33m.\u001b[0m\u001b[0mpath\u001b[0m\u001b[1;33m(\u001b[0m\u001b[0mnew_path\u001b[0m\u001b[1;33m)\u001b[0m\u001b[1;33m\u001b[0m\u001b[1;33m\u001b[0m\u001b[0m\n\u001b[0m\u001b[0;32m     58\u001b[0m \u001b[1;33m\u001b[0m\u001b[0m\n\u001b[0;32m     59\u001b[0m \u001b[1;33m\u001b[0m\u001b[0m\n",
      "\u001b[1;31mAttributeError\u001b[0m: module 'pathlib' has no attribute 'path'"
     ]
    }
   ],
   "source": [
    "import pathlib\n",
    "from basicCNN import *\n",
    "#download data to your computer\n",
    "data_dir = tf.keras.utils.get_file(origin='https://storage.googleapis.com/download.tensorflow.org/example_images/flower_photos.tgz',\n",
    "                                         fname='flower_photos', untar=True)\n",
    "#convert string to path type\n",
    "\n",
    "if os.path.exists(data_dir + '_ub') and os.path.isdir(data_dir + '_ub'):\n",
    "    data_dir = pathlib.Path(data_dir + '_ub')\n",
    "    \n",
    "else:\n",
    "    data_dir = pathlib.Path(UB_data_setup(data_dir))#UB setup\n",
    "\n",
    "print(data_dir)"
   ]
  },
  {
   "cell_type": "code",
   "execution_count": 8,
   "metadata": {},
   "outputs": [
    {
     "data": {
      "text/plain": [
       "787"
      ]
     },
     "execution_count": 8,
     "metadata": {},
     "output_type": "execute_result"
    }
   ],
   "source": [
    "image_count = len(list(data_dir.glob('*/*.jpg')))\n",
    "image_count"
   ]
  },
  {
   "cell_type": "code",
   "execution_count": 9,
   "metadata": {
    "scrolled": true
   },
   "outputs": [
    {
     "name": "stdout",
     "output_type": "stream",
     "text": [
      "['daisy', 'dandelion', 'roses']\n"
     ]
    }
   ],
   "source": [
    "#grab folder names\n",
    "DATA_CLASSES = [item.name for item in data_dir.glob('*') if item.name != \"LICENSE.txt\"]\n",
    "print(DATA_CLASSES)"
   ]
  },
  {
   "cell_type": "code",
   "execution_count": 10,
   "metadata": {
    "scrolled": true
   },
   "outputs": [],
   "source": [
    "import random\n",
    "\n",
    "IMG_SIZE = 50\n",
    "training_data , testing_data,  distribution = create_training_data(data_dir, IMG_SIZE, DATA_CLASSES)\n",
    "random.shuffle(training_data)\n"
   ]
  },
  {
   "cell_type": "code",
   "execution_count": 11,
   "metadata": {},
   "outputs": [
    {
     "name": "stdout",
     "output_type": "stream",
     "text": [
      "591\n",
      "Proportion of daisy\n",
      "0.8030495552731893\n",
      "Proportion of dandelion\n",
      "0.11435832274459974\n",
      "Proportion of roses\n",
      "0.08259212198221093\n"
     ]
    }
   ],
   "source": [
    "print(len(training_data))\n",
    "i = 0\n",
    "for elem in distribution:\n",
    "    print('Proportion of ' + str(DATA_CLASSES[i]))\n",
    "    print(elem / image_count)\n",
    "    i+=1"
   ]
  },
  {
   "cell_type": "code",
   "execution_count": 12,
   "metadata": {},
   "outputs": [
    {
     "name": "stdout",
     "output_type": "stream",
     "text": [
      "This image\n"
     ]
    },
    {
     "data": {
      "image/png": "[encoded data removed]",
      "text/plain": [
       "<Figure size 432x288 with 1 Axes>"
      ]
     },
     "metadata": {
      "needs_background": "light"
     },
     "output_type": "display_data"
    },
    {
     "name": "stdout",
     "output_type": "stream",
     "text": [
      "is represented like this to our code \n",
      " \n",
      "[[[ 40 121 108]\n",
      "  [ 97 169 152]\n",
      "  [ 86 166 142]\n",
      "  ...\n",
      "  [164 211 200]\n",
      "  [ 26 179 121]\n",
      "  [ 16  99  42]]\n",
      "\n",
      " [[ 36 137 123]\n",
      "  [ 79 151 133]\n",
      "  [ 52 158 128]\n",
      "  ...\n",
      "  [ 55 196 160]\n",
      "  [ 30 110  62]\n",
      "  [ 41 171 113]]\n",
      "\n",
      " [[ 35 112  91]\n",
      "  [ 21  98  78]\n",
      "  [ 90 171 144]\n",
      "  ...\n",
      "  [ 97 186 155]\n",
      "  [ 26 152  95]\n",
      "  [ 40 144  88]]\n",
      "\n",
      " ...\n",
      "\n",
      " [[ 50 129 121]\n",
      "  [ 19  65  55]\n",
      "  [ 51 123 110]\n",
      "  ...\n",
      "  [ 93 178 155]\n",
      "  [ 65 128  96]\n",
      "  [ 44 125  71]]\n",
      "\n",
      " [[ 41 138 130]\n",
      "  [ 18  95  92]\n",
      "  [ 26  77  79]\n",
      "  ...\n",
      "  [117 213 188]\n",
      "  [  9 134  77]\n",
      "  [103 152 134]]\n",
      "\n",
      " [[ 34  96 100]\n",
      "  [ 34 150 137]\n",
      "  [ 17  99  91]\n",
      "  ...\n",
      "  [ 72  95  89]\n",
      "  [122 212 192]\n",
      "  [  8  33  10]]]\n"
     ]
    }
   ],
   "source": [
    "X , y = restructure_data(training_data)\n",
    "print('This image')\n",
    "fix_colors = cv2.cvtColor(training_data[0][0], cv2.COLOR_BGR2RGB)\n",
    "plt.imshow(fix_colors)\n",
    "plt.show()\n",
    "print('is represented like this to our code \\n ')\n",
    "print(training_data[0][0])\n",
    "#print(testing_data[0][0])\n"
   ]
  },
  {
   "cell_type": "code",
   "execution_count": 13,
   "metadata": {},
   "outputs": [
    {
     "name": "stdout",
     "output_type": "stream",
     "text": [
      "WARNING:tensorflow:From C:\\Users\\laure\\Anaconda3\\envs\\TensorFlowStuff\\lib\\site-packages\\tensorflow\\python\\ops\\init_ops.py:1251: calling VarianceScaling.__init__ (from tensorflow.python.ops.init_ops) with dtype is deprecated and will be removed in a future version.\n",
      "Instructions for updating:\n",
      "Call initializer instance with the dtype argument instead of passing it to the constructor\n",
      "Train on 413 samples, validate on 178 samples\n",
      "Epoch 1/3\n",
      "413/413 [==============================] - 10s 25ms/sample - loss: 1.0178 - acc: 0.7627 - val_loss: 0.6495 - val_acc: 0.7921\n",
      "Epoch 2/3\n",
      "413/413 [==============================] - 9s 21ms/sample - loss: 0.5352 - acc: 0.8063 - val_loss: 0.6991 - val_acc: 0.7921\n",
      "Epoch 3/3\n",
      "413/413 [==============================] - 8s 20ms/sample - loss: 0.4912 - acc: 0.8281 - val_loss: 0.5716 - val_acc: 0.7978\n"
     ]
    },
    {
     "data": {
      "text/plain": [
       "<tensorflow.python.keras.callbacks.History at 0x226dccaa1d0>"
      ]
     },
     "execution_count": 13,
     "metadata": {},
     "output_type": "execute_result"
    }
   ],
   "source": [
    "X = X/255.0\n",
    "\n",
    "model = build_model(X,y,len(DATA_CLASSES))\n",
    "\n",
    "model.fit(X, y, batch_size=32, epochs=3, validation_split=0.3)"
   ]
  },
  {
   "cell_type": "code",
   "execution_count": 95,
   "metadata": {},
   "outputs": [
    {
     "name": "stdout",
     "output_type": "stream",
     "text": [
      "The model was right 82.14285714285714% of the time\n"
     ]
    }
   ],
   "source": [
    "X_test, y_test = restructure_data(testing_data)\n",
    "predictions = model.predict(X_test)\n",
    "\n",
    "error_occurances = []\n",
    "i = 0\n",
    "\n",
    "while i < len(predictions):\n",
    "    \n",
    "    if not np.argmax(predictions[i]) == y_test[i]:\n",
    "        error_occurances.append(i)\n",
    "        \n",
    "    i+=1\n",
    "    \n",
    "print('The model was right ' + str(100*(1-len(error_occurances)/len(predictions))) + '% of the time')\n",
    "    "
   ]
  },
  {
   "cell_type": "code",
   "execution_count": 113,
   "metadata": {
    "scrolled": true
   },
   "outputs": [
    {
     "name": "stdout",
     "output_type": "stream",
     "text": [
      "The model predicted that this image is a daisy\n"
     ]
    },
    {
     "data": {
      "image/png": "[encoded data removed]",
      "text/plain": [
       "<Figure size 432x288 with 1 Axes>"
      ]
     },
     "metadata": {
      "needs_background": "light"
     },
     "output_type": "display_data"
    }
   ],
   "source": [
    "import random\n",
    "#check a random data point from all of X_test\n",
    "#check = random.randint(0,len(X_test)-1) \n",
    "#or check one of the mrked errors\n",
    "check = error_occurances[random.randint(0, len(error_occurances)-1)]\n",
    "\n",
    "print('The model predicted that this image is in the category of ' + DATA_CLASSES[np.argmax(predictions[check])])\n",
    "fix_colors = cv2.cvtColor(X_test[check], cv2.COLOR_BGR2RGB)\n",
    "plt.imshow(fix_colors)\n",
    "plt.show()"
   ]
  }
 ],
 "metadata": {
  "kernelspec": {
   "display_name": "Python 3",
   "language": "python",
   "name": "python3"
  },
  "language_info": {
   "codemirror_mode": {
    "name": "ipython",
    "version": 3
   },
   "file_extension": ".py",
   "mimetype": "text/x-python",
   "name": "python",
   "nbconvert_exporter": "python",
   "pygments_lexer": "ipython3",
   "version": "3.6.9"
  }
 },
 "nbformat": 4,
 "nbformat_minor": 2
}
