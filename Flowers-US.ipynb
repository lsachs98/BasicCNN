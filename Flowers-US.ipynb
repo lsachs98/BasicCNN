{
 "cells": [
  {
   "cell_type": "code",
   "execution_count": 13,
   "metadata": {},
   "outputs": [],
   "source": [
    "import tensorflow as tf"
   ]
  },
  {
   "cell_type": "code",
   "execution_count": 14,
   "metadata": {},
   "outputs": [],
   "source": [
    "import os\n",
    "import cv2\n",
    "import numpy as np\n",
    "import matplotlib.pyplot as plt"
   ]
  },
  {
   "cell_type": "code",
   "execution_count": 15,
   "metadata": {
    "scrolled": true
   },
   "outputs": [],
   "source": [
    "import pathlib\n",
    "data_dir = tf.keras.utils.get_file(origin='https://storage.googleapis.com/download.tensorflow.org/example_images/flower_photos.tgz',\n",
    "                                         fname='flower_photos', untar=True)"
   ]
  },
  {
   "cell_type": "code",
   "execution_count": 16,
   "metadata": {},
   "outputs": [
    {
     "name": "stdout",
     "output_type": "stream",
     "text": [
      "C:\\Users\\laure\\.keras\\datasets\\flower_photos\n"
     ]
    }
   ],
   "source": [
    "data_dir = pathlib.Path(data_dir)\n",
    "print(data_dir)"
   ]
  },
  {
   "cell_type": "code",
   "execution_count": 17,
   "metadata": {},
   "outputs": [
    {
     "data": {
      "text/plain": [
       "3666"
      ]
     },
     "execution_count": 17,
     "metadata": {},
     "output_type": "execute_result"
    }
   ],
   "source": [
    "image_count = len(list(data_dir.glob('*/*.jpg')))\n",
    "image_count"
   ]
  },
  {
   "cell_type": "code",
   "execution_count": 18,
   "metadata": {},
   "outputs": [
    {
     "name": "stdout",
     "output_type": "stream",
     "text": [
      "['daisy', 'dandelion', 'roses', 'sunflowers', 'tulips']\n"
     ]
    }
   ],
   "source": [
    "DATA_CLASSES = [item.name for item in data_dir.glob('*') if item.name != \"LICENSE.txt\"]\n",
    "print(DATA_CLASSES)"
   ]
  },
  {
   "cell_type": "code",
   "execution_count": 19,
   "metadata": {
    "scrolled": true
   },
   "outputs": [],
   "source": [
    "import random\n",
    "from basicCNN import *\n",
    "\n",
    "IMG_SIZE = 50\n",
    "training_data , testing_data,  distribution = create_training_data(data_dir, IMG_SIZE, DATA_CLASSES)\n",
    "\n"
   ]
  },
  {
   "cell_type": "code",
   "execution_count": 20,
   "metadata": {},
   "outputs": [
    {
     "name": "stdout",
     "output_type": "stream",
     "text": [
      "2935\n",
      "Proportion of daisy\n",
      "0.1723949809056192\n",
      "Proportion of dandelion\n",
      "0.24440807419530824\n",
      "Proportion of roses\n",
      "0.1745771958537916\n",
      "Proportion of sunflowers\n",
      "0.190671031096563\n",
      "Proportion of tulips\n",
      "0.21794871794871795\n"
     ]
    }
   ],
   "source": [
    "print(len(training_data))\n",
    "\n",
    "i = 0\n",
    "\n",
    "#print out the proportions of each class of data\n",
    "for elem in distribution:\n",
    "    \n",
    "    print('Proportion of ' + str(DATA_CLASSES[i]))\n",
    "    print(elem / image_count)\n",
    "    i+=1"
   ]
  },
  {
   "cell_type": "code",
   "execution_count": 21,
   "metadata": {},
   "outputs": [
    {
     "name": "stdout",
     "output_type": "stream",
     "text": [
      "This image\n"
     ]
    },
    {
     "data": {
      "image/png": "[encoded data removed]",
      "text/plain": [
       "<Figure size 432x288 with 1 Axes>"
      ]
     },
     "metadata": {
      "needs_background": "light"
     },
     "output_type": "display_data"
    },
    {
     "name": "stdout",
     "output_type": "stream",
     "text": [
      "is represented like this to our code \n",
      " \n",
      "[[[142 143 143]\n",
      "  [151 149 149]\n",
      "  [165 159 159]\n",
      "  ...\n",
      "  [172 168 168]\n",
      "  [157 157 157]\n",
      "  [151 153 153]]\n",
      "\n",
      " [[132 135 136]\n",
      "  [149 151 151]\n",
      "  [178 173 173]\n",
      "  ...\n",
      "  [164 159 160]\n",
      "  [156 156 156]\n",
      "  [146 146 147]]\n",
      "\n",
      " [[108 120 122]\n",
      "  [149 151 151]\n",
      "  [156 153 153]\n",
      "  ...\n",
      "  [161 157 158]\n",
      "  [157 157 157]\n",
      "  [127 131 132]]\n",
      "\n",
      " ...\n",
      "\n",
      " [[ 18  39  36]\n",
      "  [ 27  44  41]\n",
      "  [ 91  94  94]\n",
      "  ...\n",
      "  [120 123 126]\n",
      "  [119 124 126]\n",
      "  [115 121 124]]\n",
      "\n",
      " [[ 21  44  41]\n",
      "  [ 25  48  44]\n",
      "  [ 79  86  88]\n",
      "  ...\n",
      "  [129 129 133]\n",
      "  [121 124 128]\n",
      "  [121 124 128]]\n",
      "\n",
      " [[ 26  47  44]\n",
      "  [ 29  50  48]\n",
      "  [ 59  70  71]\n",
      "  ...\n",
      "  [135 136 140]\n",
      "  [129 130 134]\n",
      "  [125 126 130]]]\n"
     ]
    }
   ],
   "source": [
    "#split into data point and label (X,y)\n",
    "X , y = restructure_data(training_data)\n",
    "\n",
    "#take a look at a piece of data\n",
    "print('This image')\n",
    "\n",
    "check_image = training_data[0][0]\n",
    "check_image = cv2.cvtColor(check_image, cv2.COLOR_BGR2RGB)\n",
    "plt.imshow(check_image)\n",
    "plt.show()\n",
    "\n",
    "print('is represented like this to our code \\n ')\n",
    "\n",
    "print(training_data[0][0])\n",
    "#print(testing_data[0][0])\n"
   ]
  },
  {
   "cell_type": "code",
   "execution_count": 22,
   "metadata": {},
   "outputs": [
    {
     "name": "stdout",
     "output_type": "stream",
     "text": [
      "Train on 2054 samples, validate on 881 samples\n",
      "Epoch 1/3\n",
      "2054/2054 [==============================] - 43s 21ms/sample - loss: 1.2365 - acc: 0.4318 - val_loss: 7.0452 - val_acc: 0.0760\n",
      "Epoch 2/3\n",
      "2054/2054 [==============================] - 40s 20ms/sample - loss: 0.8681 - acc: 0.6422 - val_loss: 8.7056 - val_acc: 0.1998\n",
      "Epoch 3/3\n",
      "2054/2054 [==============================] - 43s 21ms/sample - loss: 0.7633 - acc: 0.6938 - val_loss: 9.3029 - val_acc: 0.1884\n"
     ]
    },
    {
     "data": {
      "text/plain": [
       "<tensorflow.python.keras.callbacks.History at 0x26d00cbfbe0>"
      ]
     },
     "execution_count": 22,
     "metadata": {},
     "output_type": "execute_result"
    }
   ],
   "source": [
    "X = X/255.0\n",
    "\n",
    "model = build_model(X,y,len(DATA_CLASSES))\n",
    "\n",
    "model.fit(X, y, batch_size=32, epochs=3, validation_split=0.3)"
   ]
  },
  {
   "cell_type": "code",
   "execution_count": 23,
   "metadata": {},
   "outputs": [
    {
     "name": "stdout",
     "output_type": "stream",
     "text": [
      "The model was right 42.54445964432284% of the time\n"
     ]
    }
   ],
   "source": [
    "X_test, y_test = restructure_data(testing_data)\n",
    "predictions = model.predict(X_test)\n",
    "\n",
    "error_occurances = []\n",
    "i = 0\n",
    "\n",
    "while i < len(predictions):\n",
    "    \n",
    "    if not np.argmax(predictions[i]) == y_test[i]:\n",
    "        error_occurances.append(i)\n",
    "        \n",
    "    i+=1\n",
    "    \n",
    "print('The model was right ' + str(100*(1-len(error_occurances)/len(predictions))) + '% of the time')\n",
    "   "
   ]
  },
  {
   "cell_type": "code",
   "execution_count": 28,
   "metadata": {},
   "outputs": [
    {
     "name": "stdout",
     "output_type": "stream",
     "text": [
      "The model predicted that this image is in the category of daisy and it is in the category of sunflowers\n"
     ]
    },
    {
     "data": {
      "image/png": "[encoded data removed]",
      "text/plain": [
       "<Figure size 432x288 with 1 Axes>"
      ]
     },
     "metadata": {
      "needs_background": "light"
     },
     "output_type": "display_data"
    }
   ],
   "source": [
    "import random\n",
    "#check a random data point from all of X_test\n",
    "#check = random.randint(0,len(X_test)-1) \n",
    "#or check one of the mrked errors\n",
    "check = error_occurances[random.randint(0, len(error_occurances)-1)]\n",
    "\n",
    "print('The model predicted that this image is in the category of ' + DATA_CLASSES[np.argmax(predictions[check])] + \n",
    "      ' and it is in the category of ' + DATA_CLASSES[y_test[check]])\n",
    "fix_colors = cv2.cvtColor(X_test[check], cv2.COLOR_BGR2RGB)\n",
    "plt.imshow(fix_colors)\n",
    "plt.show()"
   ]
  }
 ],
 "metadata": {
  "kernelspec": {
   "display_name": "Python 3",
   "language": "python",
   "name": "python3"
  },
  "language_info": {
   "codemirror_mode": {
    "name": "ipython",
    "version": 3
   },
   "file_extension": ".py",
   "mimetype": "text/x-python",
   "name": "python",
   "nbconvert_exporter": "python",
   "pygments_lexer": "ipython3",
   "version": "3.6.9"
  }
 },
 "nbformat": 4,
 "nbformat_minor": 2
}
