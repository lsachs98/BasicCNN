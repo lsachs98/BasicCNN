{
 "cells": [
  {
   "cell_type": "code",
   "execution_count": 9,
   "metadata": {},
   "outputs": [],
   "source": [
    "import tensorflow as tf"
   ]
  },
  {
   "cell_type": "code",
   "execution_count": 10,
   "metadata": {},
   "outputs": [],
   "source": [
    "import os\n",
    "import cv2\n",
    "import numpy as np\n",
    "import matplotlib.pyplot as plt"
   ]
  },
  {
   "cell_type": "code",
   "execution_count": 11,
   "metadata": {
    "scrolled": true
   },
   "outputs": [],
   "source": [
    "import pathlib\n",
    "data_dir = tf.keras.utils.get_file(origin='https://storage.googleapis.com/download.tensorflow.org/example_images/flower_photos.tgz',\n",
    "                                         fname='flower_photos', untar=True)"
   ]
  },
  {
   "cell_type": "code",
   "execution_count": 12,
   "metadata": {},
   "outputs": [
    {
     "name": "stdout",
     "output_type": "stream",
     "text": [
      "C:\\Users\\laure\\.keras\\datasets\\flower_photos\n"
     ]
    }
   ],
   "source": [
    "data_dir = pathlib.Path(data_dir)\n",
    "print(data_dir)"
   ]
  },
  {
   "cell_type": "code",
   "execution_count": 13,
   "metadata": {},
   "outputs": [
    {
     "data": {
      "text/plain": [
       "3666"
      ]
     },
     "execution_count": 13,
     "metadata": {},
     "output_type": "execute_result"
    }
   ],
   "source": [
    "image_count = len(list(data_dir.glob('*/*.jpg')))\n",
    "image_count"
   ]
  },
  {
   "cell_type": "code",
   "execution_count": 14,
   "metadata": {},
   "outputs": [
    {
     "name": "stdout",
     "output_type": "stream",
     "text": [
      "['daisy', 'dandelion', 'roses', 'sunflowers', 'tulips']\n"
     ]
    }
   ],
   "source": [
    "CLASS_NAMES = [item.name for item in data_dir.glob('*') if item.name != \"LICENSE.txt\"]\n",
    "print(CLASS_NAMES)"
   ]
  },
  {
   "cell_type": "code",
   "execution_count": 15,
   "metadata": {
    "scrolled": true
   },
   "outputs": [],
   "source": [
    "import random\n",
    "from basicCNN import *\n",
    "\n",
    "IMG_SIZE = 50\n",
    "training_data , testing_data,  distribution = create_training_data(data_dir, IMG_SIZE, CLASS_NAMES)\n",
    "random.shuffle(training_data)\n"
   ]
  },
  {
   "cell_type": "code",
   "execution_count": 16,
   "metadata": {},
   "outputs": [
    {
     "name": "stdout",
     "output_type": "stream",
     "text": [
      "2749\n",
      "Proportion of daisy\n",
      "0.1723949809056192\n",
      "Proportion of dandelion\n",
      "0.24440807419530824\n",
      "Proportion of roses\n",
      "0.1745771958537916\n",
      "Proportion of sunflowers\n",
      "0.190671031096563\n",
      "Proportion of tulips\n",
      "0.21794871794871795\n"
     ]
    }
   ],
   "source": [
    "print(len(training_data))\n",
    "i = 0\n",
    "for elem in distribution:\n",
    "    print('Proportion of ' + str(CLASS_NAMES[i]))\n",
    "    print(elem / image_count)\n",
    "    i+=1"
   ]
  },
  {
   "cell_type": "code",
   "execution_count": 17,
   "metadata": {},
   "outputs": [
    {
     "name": "stdout",
     "output_type": "stream",
     "text": [
      "This image\n"
     ]
    },
    {
     "data": {
      "image/png": "[encoded data removed]",
      "text/plain": [
       "<Figure size 432x288 with 1 Axes>"
      ]
     },
     "metadata": {
      "needs_background": "light"
     },
     "output_type": "display_data"
    },
    {
     "name": "stdout",
     "output_type": "stream",
     "text": [
      "is represented like this to our code \n",
      " \n",
      "[[[46 85 86]\n",
      "  [41 88 88]\n",
      "  [41 85 76]\n",
      "  ...\n",
      "  [ 7 25 12]\n",
      "  [ 4 17  9]\n",
      "  [ 6 22 11]]\n",
      "\n",
      " [[33 85 75]\n",
      "  [30 77 65]\n",
      "  [24 63 48]\n",
      "  ...\n",
      "  [ 6 22 12]\n",
      "  [ 7 18  9]\n",
      "  [ 5 19  9]]\n",
      "\n",
      " [[27 66 55]\n",
      "  [25 70 53]\n",
      "  [13 40 26]\n",
      "  ...\n",
      "  [ 7 22 13]\n",
      "  [ 5 22  9]\n",
      "  [ 5 18  7]]\n",
      "\n",
      " ...\n",
      "\n",
      " [[17 51 36]\n",
      "  [12 40 30]\n",
      "  [23 67 63]\n",
      "  ...\n",
      "  [10 31 20]\n",
      "  [ 9 20 12]\n",
      "  [ 4 13  8]]\n",
      "\n",
      " [[29 82 65]\n",
      "  [ 4 21  9]\n",
      "  [ 8 31 18]\n",
      "  ...\n",
      "  [ 6 18 12]\n",
      "  [ 8 16 13]\n",
      "  [ 6 14 13]]\n",
      "\n",
      " [[14 41 26]\n",
      "  [ 6 28 15]\n",
      "  [13 50 34]\n",
      "  ...\n",
      "  [ 4 14  8]\n",
      "  [ 4 11  8]\n",
      "  [ 4 11  8]]]\n"
     ]
    }
   ],
   "source": [
    "#split into data point and label (X,y)\n",
    "X , y = restructure_data(training_data)\n",
    "\n",
    "#take a look at a piece of data\n",
    "print('This image')\n",
    "\n",
    "check_image = training_data[0][0]\n",
    "#try commenting out the line below\n",
    "#how does it affect the image? how does it affect the training?\n",
    "check_image = cv2.cvtColor(check_image, cv2.COLOR_BGR2RGB)\n",
    "plt.imshow(check_image)\n",
    "plt.show()\n",
    "\n",
    "print('is represented like this to our code \\n ')\n",
    "\n",
    "print(training_data[0][0])\n",
    "#print(testing_data[0][0])"
   ]
  },
  {
   "cell_type": "code",
   "execution_count": 18,
   "metadata": {},
   "outputs": [
    {
     "name": "stdout",
     "output_type": "stream",
     "text": [
      "WARNING:tensorflow:From C:\\Users\\laure\\Anaconda3\\envs\\TensorFlowStuff\\lib\\site-packages\\tensorflow\\python\\ops\\init_ops.py:1251: calling VarianceScaling.__init__ (from tensorflow.python.ops.init_ops) with dtype is deprecated and will be removed in a future version.\n",
      "Instructions for updating:\n",
      "Call initializer instance with the dtype argument instead of passing it to the constructor\n",
      "Train on 1924 samples, validate on 825 samples\n",
      "Epoch 1/3\n",
      "1924/1924 [==============================] - 42s 22ms/sample - loss: 1.4758 - acc: 0.3883 - val_loss: 1.2203 - val_acc: 0.5030\n",
      "Epoch 2/3\n",
      "1924/1924 [==============================] - 42s 22ms/sample - loss: 1.1265 - acc: 0.5437 - val_loss: 1.0799 - val_acc: 0.5891\n",
      "Epoch 3/3\n",
      "1924/1924 [==============================] - 48s 25ms/sample - loss: 1.0049 - acc: 0.6065 - val_loss: 1.1396 - val_acc: 0.5515\n"
     ]
    },
    {
     "data": {
      "text/plain": [
       "<tensorflow.python.keras.callbacks.History at 0x17f3c144860>"
      ]
     },
     "execution_count": 18,
     "metadata": {},
     "output_type": "execute_result"
    }
   ],
   "source": [
    "X = X/255.0\n",
    "\n",
    "#magical model building!\n",
    "model = build_model(X,y,len(CLASS_NAMES))\n",
    "\n",
    "#note: \n",
    "#epochs = number of times it trains\n",
    "#validation_split = what to take out to test on automatically\n",
    "model.fit(X, y, batch_size=32, epochs=3, validation_split=0.3)"
   ]
  },
  {
   "cell_type": "code",
   "execution_count": 19,
   "metadata": {},
   "outputs": [
    {
     "name": "stdout",
     "output_type": "stream",
     "text": [
      "The model was right 51.79934569247546% of the time\n"
     ]
    }
   ],
   "source": [
    "X_test, y_test = restructure_data(testing_data)\n",
    "predictions = model.predict(X_test)\n",
    "\n",
    "error_occurances = []\n",
    "i = 0\n",
    "\n",
    "while i < len(predictions):\n",
    "    \n",
    "    if not np.argmax(predictions[i]) == y_test[i]:\n",
    "        error_occurances.append(i)\n",
    "        \n",
    "    i+=1\n",
    "    \n",
    "print('The model was right ' + str(100*(1-len(error_occurances)/len(predictions))) + '% of the time')\n",
    "    "
   ]
  },
  {
   "cell_type": "code",
   "execution_count": 20,
   "metadata": {},
   "outputs": [
    {
     "ename": "NameError",
     "evalue": "name 'DATA_CLASSES' is not defined",
     "output_type": "error",
     "traceback": [
      "\u001b[1;31m---------------------------------------------------------------------------\u001b[0m",
      "\u001b[1;31mNameError\u001b[0m                                 Traceback (most recent call last)",
      "\u001b[1;32m<ipython-input-20-b3f0e45c4d4d>\u001b[0m in \u001b[0;36m<module>\u001b[1;34m\u001b[0m\n\u001b[0;32m      5\u001b[0m \u001b[0mcheck\u001b[0m \u001b[1;33m=\u001b[0m \u001b[0merror_occurances\u001b[0m\u001b[1;33m[\u001b[0m\u001b[0mrandom\u001b[0m\u001b[1;33m.\u001b[0m\u001b[0mrandint\u001b[0m\u001b[1;33m(\u001b[0m\u001b[1;36m0\u001b[0m\u001b[1;33m,\u001b[0m \u001b[0mlen\u001b[0m\u001b[1;33m(\u001b[0m\u001b[0merror_occurances\u001b[0m\u001b[1;33m)\u001b[0m\u001b[1;33m-\u001b[0m\u001b[1;36m1\u001b[0m\u001b[1;33m)\u001b[0m\u001b[1;33m]\u001b[0m\u001b[1;33m\u001b[0m\u001b[1;33m\u001b[0m\u001b[0m\n\u001b[0;32m      6\u001b[0m \u001b[1;33m\u001b[0m\u001b[0m\n\u001b[1;32m----> 7\u001b[1;33m \u001b[0mprint\u001b[0m\u001b[1;33m(\u001b[0m\u001b[1;34m'The model predicted that this image is in the category of '\u001b[0m \u001b[1;33m+\u001b[0m \u001b[0mDATA_CLASSES\u001b[0m\u001b[1;33m[\u001b[0m\u001b[0mnp\u001b[0m\u001b[1;33m.\u001b[0m\u001b[0margmax\u001b[0m\u001b[1;33m(\u001b[0m\u001b[0mpredictions\u001b[0m\u001b[1;33m[\u001b[0m\u001b[0mcheck\u001b[0m\u001b[1;33m]\u001b[0m\u001b[1;33m)\u001b[0m\u001b[1;33m]\u001b[0m\u001b[1;33m)\u001b[0m\u001b[1;33m\u001b[0m\u001b[1;33m\u001b[0m\u001b[0m\n\u001b[0m\u001b[0;32m      8\u001b[0m \u001b[0mfix_colors\u001b[0m \u001b[1;33m=\u001b[0m \u001b[0mcv2\u001b[0m\u001b[1;33m.\u001b[0m\u001b[0mcvtColor\u001b[0m\u001b[1;33m(\u001b[0m\u001b[0mX_test\u001b[0m\u001b[1;33m[\u001b[0m\u001b[0mcheck\u001b[0m\u001b[1;33m]\u001b[0m\u001b[1;33m,\u001b[0m \u001b[0mcv2\u001b[0m\u001b[1;33m.\u001b[0m\u001b[0mCOLOR_BGR2RGB\u001b[0m\u001b[1;33m)\u001b[0m\u001b[1;33m\u001b[0m\u001b[1;33m\u001b[0m\u001b[0m\n\u001b[0;32m      9\u001b[0m \u001b[0mplt\u001b[0m\u001b[1;33m.\u001b[0m\u001b[0mimshow\u001b[0m\u001b[1;33m(\u001b[0m\u001b[0mfix_colors\u001b[0m\u001b[1;33m)\u001b[0m\u001b[1;33m\u001b[0m\u001b[1;33m\u001b[0m\u001b[0m\n",
      "\u001b[1;31mNameError\u001b[0m: name 'DATA_CLASSES' is not defined"
     ]
    }
   ],
   "source": [
    "import random\n",
    "#check a random data point from all of X_test\n",
    "#check = random.randint(0,len(X_test)-1) \n",
    "#or check one of the mrked errors\n",
    "check = error_occurances[random.randint(0, len(error_occurances)-1)]\n",
    "\n",
    "print('The model predicted that this image is in the category of ' + DATA_CLASSES[np.argmax(predictions[check])])\n",
    "fix_colors = cv2.cvtColor(X_test[check], cv2.COLOR_BGR2RGB)\n",
    "plt.imshow(fix_colors)\n",
    "plt.show()"
   ]
  }
 ],
 "metadata": {
  "kernelspec": {
   "display_name": "Python 3",
   "language": "python",
   "name": "python3"
  },
  "language_info": {
   "codemirror_mode": {
    "name": "ipython",
    "version": 3
   },
   "file_extension": ".py",
   "mimetype": "text/x-python",
   "name": "python",
   "nbconvert_exporter": "python",
   "pygments_lexer": "ipython3",
   "version": "3.6.9"
  }
 },
 "nbformat": 4,
 "nbformat_minor": 2
}
